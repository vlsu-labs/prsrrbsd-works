{
 "cells": [
  {
   "cell_type": "markdown",
   "metadata": {},
   "source": [
    "# imports"
   ]
  },
  {
   "cell_type": "code",
   "execution_count": 16,
   "metadata": {},
   "outputs": [],
   "source": [
    "import numpy as np\n",
    "from random import randint\n",
    "from typing import Union, Any\n",
    "from enum import Enum"
   ]
  },
  {
   "cell_type": "markdown",
   "metadata": {},
   "source": [
    "## utils"
   ]
  },
  {
   "cell_type": "code",
   "execution_count": 57,
   "metadata": {},
   "outputs": [],
   "source": [
    "class InitType(Enum):\n",
    "    Int = 'int'\n",
    "    Float = 'float'\n",
    "\n",
    "\n",
    "def init_rnd_matrix(h: int, w: int, type: InitType, min: Any, max: Any) -> Union[np.matrix, np.array]:\n",
    "    common_size = h * w\n",
    "    if min > max:\n",
    "        raise ValueError()\n",
    "    \n",
    "    def float_borders_map(value):\n",
    "        shift = (max) - min\n",
    "\n",
    "        return value * shift + min\n",
    "\n",
    "\n",
    "    min, max = (int(min), int(max)) if type == InitType.Int else (float(min), float(max))\n",
    "    result = np.random.randint(min, max+1, common_size) if type == InitType.Int else float_borders_map(np.random.rand(common_size))\n",
    "\n",
    "    if h != 1:\n",
    "        result = result.reshape(h, w)\n",
    "    \n",
    "    return result\n"
   ]
  },
  {
   "cell_type": "code",
   "execution_count": 73,
   "metadata": {},
   "outputs": [
    {
     "name": "stdout",
     "output_type": "stream",
     "text": [
      "[[1.51428338 1.07276286 1.24233849 1.81665261 1.75600179 1.08905222\n",
      "  1.9406322  1.12300595 1.76735441 1.76680381]\n",
      " [1.33672782 1.25226993 1.84034473 1.66754082 1.23808548 1.94292543\n",
      "  1.66227734 1.60716915 1.61968785 1.71425605]\n",
      " [1.63051594 1.50567196 1.91074512 1.31299081 1.03406959 1.10010048\n",
      "  1.76993967 1.58559831 1.25993163 1.27823553]\n",
      " [1.6844933  1.0510743  1.8743853  1.34916716 1.13304907 1.91020901\n",
      "  1.26138237 1.83556125 1.67833999 1.43967966]\n",
      " [1.92955394 1.73366573 1.91589624 1.46408083 1.52179112 1.70552453\n",
      "  1.53306514 1.92420035 1.61621776 1.74278958]\n",
      " [1.95558409 1.28859886 1.92213023 1.71923771 1.8019417  1.84181506\n",
      "  1.04674584 1.50908025 1.02765594 1.5348782 ]\n",
      " [1.77383029 1.76917549 1.23863575 1.75290861 1.81883453 1.00393068\n",
      "  1.14003799 1.47848645 1.38331318 1.25024371]\n",
      " [1.43280124 1.81670943 1.16425468 1.06529326 1.0045199  1.57691623\n",
      "  1.4754416  1.8775023  1.59798196 1.25617131]\n",
      " [1.88907304 1.76282971 1.37570372 1.2871263  1.26935256 1.57099162\n",
      "  1.15009295 1.60950684 1.04212333 1.74417701]\n",
      " [1.4734012  1.49170035 1.23218112 1.50670384 1.60088754 1.87417991\n",
      "  1.81664743 1.82051416 1.29266043 1.58923692]]\n"
     ]
    }
   ],
   "source": [
    "print(init_rnd_matrix(10, 10, InitType.Float, 1, 2))"
   ]
  },
  {
   "cell_type": "markdown",
   "metadata": {},
   "source": [
    "Задание для студентов: посчитать сумму по строкам, используя матричное произведение."
   ]
  },
  {
   "cell_type": "code",
   "execution_count": 81,
   "metadata": {},
   "outputs": [
    {
     "name": "stdout",
     "output_type": "stream",
     "text": [
      "Source matrix:\n",
      "[[56 47 13 74 29]\n",
      " [45 22 76 81 61]\n",
      " [38 69 35 18 45]\n",
      " [32 29 59 72  9]\n",
      " [47  3 96 50 10]]\n",
      "Result\n",
      "[[219.]\n",
      " [285.]\n",
      " [205.]\n",
      " [201.]\n",
      " [206.]]\n"
     ]
    }
   ],
   "source": [
    "# np.linalg.\n",
    "SIZE = 5\n",
    "\n",
    "matrix = init_rnd_matrix(SIZE, SIZE, InitType.Int, 1, 100)\n",
    "\n",
    "extra_matrix = np.ones(SIZE).reshape(SIZE, 1)\n",
    "\n",
    "rows_sum = np.linalg.matmul(matrix, extra_matrix)\n",
    "\n",
    "print(f\"Source matrix:\")\n",
    "print(matrix)\n",
    "print(f\"Result\")\n",
    "print(rows_sum)"
   ]
  },
  {
   "cell_type": "markdown",
   "metadata": {},
   "source": [
    "Выделите строки, у которых ответов \"нет\" больше, чем ответов \"да\":"
   ]
  },
  {
   "cell_type": "code",
   "execution_count": 92,
   "metadata": {},
   "outputs": [
    {
     "name": "stdout",
     "output_type": "stream",
     "text": [
      "Source matrix 1-Yes 0-No\n",
      "[[1 1 1 0 1]\n",
      " [1 1 0 0 1]\n",
      " [1 1 1 0 0]\n",
      " [1 0 0 0 1]\n",
      " [0 1 1 1 0]\n",
      " [1 1 1 0 1]\n",
      " [0 1 0 0 1]\n",
      " [1 1 0 0 1]\n",
      " [0 0 1 0 1]\n",
      " [0 0 0 0 1]]\n",
      "Result:\n",
      "[[1 0 0 0 1]\n",
      " [0 1 0 0 1]\n",
      " [0 0 1 0 1]\n",
      " [0 0 0 0 1]]\n"
     ]
    }
   ],
   "source": [
    "HEIGHT = 10\n",
    "WIDTH = 5\n",
    "\n",
    "mtx = init_rnd_matrix(HEIGHT, WIDTH, InitType.Int, 0, 1)\n",
    "\n",
    "# def convert_to_yes_no(value):\n",
    "#     if value == 0:\n",
    "#         return 'No'\n",
    "#     return 'Yes'\n",
    "\n",
    "\n",
    "sum = np.sum(mtx, axis=1, keepdims=True)\n",
    "pick = []\n",
    "\n",
    "for i, sum_value in enumerate(sum):\n",
    "    if sum_value * 2 >= WIDTH:\n",
    "        continue\n",
    "\n",
    "    pick.append(i)\n",
    "\n",
    "\n",
    "print(\"Source matrix 1-Yes 0-No\")\n",
    "print(mtx)\n",
    "print(\"Result:\")\n",
    "print(mtx[pick, :])\n"
   ]
  },
  {
   "cell_type": "markdown",
   "metadata": {},
   "source": [
    "Вывести квадраты первых десяти натуральных чисел:"
   ]
  },
  {
   "cell_type": "code",
   "execution_count": 93,
   "metadata": {},
   "outputs": [
    {
     "name": "stdout",
     "output_type": "stream",
     "text": [
      "[  1   4   9  16  25  36  49  64  81 100]\n"
     ]
    }
   ],
   "source": [
    "def f(x):\n",
    "    return x * x\n",
    "\n",
    "print(np.vectorize(f)(np.arange(1, 11)))"
   ]
  },
  {
   "cell_type": "markdown",
   "metadata": {},
   "source": [
    "Перемешать числа натуральные числа от 1 до 10 (воспользуйтесь np.random.permutation):"
   ]
  },
  {
   "cell_type": "code",
   "execution_count": 101,
   "metadata": {},
   "outputs": [
    {
     "name": "stdout",
     "output_type": "stream",
     "text": [
      "[ 1  2  3  4  5  6  7  8  9 10]\n",
      "[ 8  5 10  3  7  9  1  6  4  2]\n"
     ]
    }
   ],
   "source": [
    "vector = np.arange(1, 11)\n",
    "\n",
    "print(vector)\n",
    "print(np.random.permutation(vector))"
   ]
  },
  {
   "cell_type": "markdown",
   "metadata": {},
   "source": [
    "Составить таблицу умножения от 1 до 10:"
   ]
  },
  {
   "cell_type": "code",
   "execution_count": 129,
   "metadata": {},
   "outputs": [
    {
     "name": "stdout",
     "output_type": "stream",
     "text": [
      "[[  1   2   3   4   5   6   7   8   9  10]\n",
      " [  2   4   6   8  10  12  14  16  18  20]\n",
      " [  3   6   9  12  15  18  21  24  27  30]\n",
      " [  4   8  12  16  20  24  28  32  36  40]\n",
      " [  5  10  15  20  25  30  35  40  45  50]\n",
      " [  6  12  18  24  30  36  42  48  54  60]\n",
      " [  7  14  21  28  35  42  49  56  63  70]\n",
      " [  8  16  24  32  40  48  56  64  72  80]\n",
      " [  9  18  27  36  45  54  63  72  81  90]\n",
      " [ 10  20  30  40  50  60  70  80  90 100]]\n"
     ]
    }
   ],
   "source": [
    "line = np.arange(1, 101)\n",
    "\n",
    "def gen1(x):\n",
    "    value = int(x % 10)\n",
    "    if value == 0:\n",
    "        return 10\n",
    "    \n",
    "    return value\n",
    "\n",
    "def gen2(x):\n",
    "    return (x + 10 - 1) // 10\n",
    "\n",
    "\n",
    "print(np.vectorize(gen1)(line.reshape(10, 10)) * np.vectorize(gen2)(line.reshape(10, 10)))\n"
   ]
  }
 ],
 "metadata": {
  "kernelspec": {
   "display_name": "prsrrbsd-works-tXDyEnCN",
   "language": "python",
   "name": "python3"
  },
  "language_info": {
   "codemirror_mode": {
    "name": "ipython",
    "version": 3
   },
   "file_extension": ".py",
   "mimetype": "text/x-python",
   "name": "python",
   "nbconvert_exporter": "python",
   "pygments_lexer": "ipython3",
   "version": "3.11.8"
  }
 },
 "nbformat": 4,
 "nbformat_minor": 2
}
